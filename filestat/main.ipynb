{
 "cells": [
  {
   "cell_type": "code",
   "execution_count": null,
   "id": "initial_id",
   "metadata": {
    "collapsed": true
   },
   "outputs": [],
   "source": [
    "import matplotlib.pyplot as plt\n",
    "import seaborn as sns\n",
    "import json\n",
    "import numpy as np"
   ]
  },
  {
   "cell_type": "markdown",
   "source": [
    "### Collect data "
   ],
   "metadata": {
    "collapsed": false
   },
   "id": "3f99de28cfd470e7"
  },
  {
   "cell_type": "code",
   "execution_count": null,
   "outputs": [],
   "source": [
    "files_data = dict()\n",
    "bad_lines = list()\n",
    "with open(\"./data.json\") as file:\n",
    "    for i, line in enumerate(file.readlines()):\n",
    "        try:\n",
    "            line = line.encode().decode('unicode_escape')\n",
    "            line = line.strip().replace(\"\\'\", \"\\\"\")\n",
    "            obj = json.loads(line)\n",
    "            files_data[obj[\"name\"]] = obj[\"size\"]\n",
    "        except Exception as ex:\n",
    "            bad_lines.append(line)\n",
    "            files_data[obj[\"name\"]] = 0"
   ],
   "metadata": {
    "collapsed": false
   },
   "id": "5fad08150d5ece53"
  },
  {
   "cell_type": "markdown",
   "source": [
    "### Histogram of sizes"
   ],
   "metadata": {
    "collapsed": false
   },
   "id": "1e2229bb96c41bdc"
  },
  {
   "cell_type": "code",
   "execution_count": 105,
   "outputs": [],
   "source": [
    "def plot_histogram_sizes(sizes: list):\n",
    "    bins = [0] + [2**i for i in range(32)]\n",
    "    cnt, _ = np.histogram(list(sizes), bins=bins)\n",
    "    plt.bar(list(range(32)), cnt, log=True)"
   ],
   "metadata": {
    "collapsed": false,
    "ExecuteTime": {
     "end_time": "2024-04-10T09:12:04.990077300Z",
     "start_time": "2024-04-10T09:12:04.980757900Z"
    }
   },
   "id": "7a3e4a413eadb904"
  },
  {
   "cell_type": "code",
   "execution_count": 107,
   "outputs": [
    {
     "data": {
      "text/plain": "<Figure size 640x480 with 1 Axes>",
      "image/png": "[encoded data removed]"
     },
     "metadata": {},
     "output_type": "display_data"
    }
   ],
   "source": [
    "plot_histogram_sizes(list(files_data.values()))"
   ],
   "metadata": {
    "collapsed": false,
    "ExecuteTime": {
     "end_time": "2024-04-10T09:12:29.600059700Z",
     "start_time": "2024-04-10T09:12:29.399958200Z"
    }
   },
   "id": "ce5709206a42ded"
  },
  {
   "cell_type": "markdown",
   "source": [
    "### Some"
   ],
   "metadata": {
    "collapsed": false
   },
   "id": "988e159331d0350b"
  },
  {
   "cell_type": "code",
   "execution_count": null,
   "outputs": [],
   "source": [
    "def folder_size(folder: str):\n",
    "    res = 0\n",
    "    for file, size in files_data.items():\n",
    "        if folder in file:\n",
    "           res += size\n",
    "    return res"
   ],
   "metadata": {
    "collapsed": false
   },
   "id": "a2c2c6b2350b88c8"
  },
  {
   "cell_type": "code",
   "execution_count": 99,
   "outputs": [
    {
     "name": "stdout",
     "output_type": "stream",
     "text": [
      "-\n"
     ]
    }
   ],
   "source": [
    "root_folders = set()\n",
    "for file in files_data:\n",
    "    try:\n",
    "        root_folders.add(file.split(\"/\")[1])\n",
    "    except:\n",
    "        print(file)\n",
    "root_folders.remove(\"\")"
   ],
   "metadata": {
    "collapsed": false,
    "ExecuteTime": {
     "start_time": "2024-04-10T09:00:04.048375900Z"
    }
   },
   "id": "82083b5696a6f5d6"
  },
  {
   "cell_type": "code",
   "execution_count": 102,
   "outputs": [
    {
     "name": "stdout",
     "output_type": "stream",
     "text": [
      "folder: /var, size: 3592010821\n",
      "folder: /opt, size: 4399926\n",
      "folder: /media, size: 158093500\n",
      "folder: /dev, size: 102556106\n",
      "folder: /sbin, size: 69355574\n",
      "folder: /etc, size: 12909992\n",
      "folder: /boot, size: 201445262\n",
      "folder: /swapfile, size: 4087351741\n",
      "folder: /home, size: 216679935\n",
      "folder: /bin, size: 467273418\n",
      "folder: /lib64, size: 4406\n",
      "folder: /srv, size: 488416\n",
      "folder: /sys, size: 239190271\n",
      "folder: /mnt, size: 32474\n",
      "folder: /usr, size: 10614845187\n",
      "folder: /run, size: 15219985\n",
      "folder: /lost+found, size: 16384\n",
      "folder: /proc, size: 140737478767280\n",
      "folder: /snap, size: 7385741570\n",
      "folder: /root, size: 154005\n",
      "folder: /lib, size: 11036179419\n",
      "folder: /libx32, size: 4132\n",
      "folder: /lib32, size: 39885\n",
      "folder: /tmp, size: 607249\n",
      "folder: /cdrom, size: 486085\n"
     ]
    }
   ],
   "source": [
    "for folder in root_folders:\n",
    "    folder = \"/\" + folder\n",
    "    print(f\"folder: {folder}, size: {folder_size(folder)}\")"
   ],
   "metadata": {
    "collapsed": false,
    "ExecuteTime": {
     "start_time": "2024-04-10T09:01:22.023431900Z"
    }
   },
   "id": "ea630b07e640cf08"
  },
  {
   "cell_type": "markdown",
   "source": [
    "### Select goood"
   ],
   "metadata": {
    "collapsed": false
   },
   "id": "76a720bc158ff948"
  },
  {
   "cell_type": "code",
   "execution_count": 109,
   "outputs": [
    {
     "data": {
      "text/plain": "15764635692"
     },
     "execution_count": 109,
     "metadata": {},
     "output_type": "execute_result"
    }
   ],
   "source": [
    "good_folders = [\"/cdrom\", \"/lib32\", \"/libx32\", \"/lib\", \"/root\", \"/lost+found\", \"/mnt\", \"/srv\", \"/lib64\", \"/bin\", \"/home\", \"/boot\", \"/etc\", \"/sbin\", \"/media\", \"opt\", \"/var\"]\n",
    "sum([folder_size(f) for f in good_folders])"
   ],
   "metadata": {
    "collapsed": false,
    "ExecuteTime": {
     "end_time": "2024-04-10T09:22:29.653274300Z",
     "start_time": "2024-04-10T09:22:29.148590700Z"
    }
   },
   "id": "13f83d21a01754ee"
  },
  {
   "cell_type": "code",
   "execution_count": 113,
   "outputs": [],
   "source": [
    "good_files_data = dict()\n",
    "for file in files_data:\n",
    "    for folder in good_folders:\n",
    "        if file.startswith(folder):\n",
    "            good_files_data[file] = files_data[file]\n",
    "            break"
   ],
   "metadata": {
    "collapsed": false,
    "ExecuteTime": {
     "end_time": "2024-04-10T09:25:49.152443600Z",
     "start_time": "2024-04-10T09:25:48.211910900Z"
    }
   },
   "id": "9f190f384a2a1ecf"
  },
  {
   "cell_type": "code",
   "execution_count": 115,
   "outputs": [
    {
     "data": {
      "text/plain": "<Figure size 640x480 with 1 Axes>",
      "image/png": "[encoded data removed]"
     },
     "metadata": {},
     "output_type": "display_data"
    }
   ],
   "source": [
    "plot_histogram_sizes(good_files_data.values())"
   ],
   "metadata": {
    "collapsed": false,
    "ExecuteTime": {
     "end_time": "2024-04-10T09:27:50.838788Z",
     "start_time": "2024-04-10T09:27:50.666697Z"
    }
   },
   "id": "8ae0cd28659d0f94"
  },
  {
   "cell_type": "code",
   "execution_count": 119,
   "outputs": [],
   "source": [
    "sorted_files = sorted(good_files_data.keys(), key=good_files_data.get, reverse=True)"
   ],
   "metadata": {
    "collapsed": false,
    "ExecuteTime": {
     "end_time": "2024-04-10T09:32:02.910659Z",
     "start_time": "2024-04-10T09:32:02.901333Z"
    }
   },
   "id": "4bf67976a1a000be"
  },
  {
   "cell_type": "code",
   "execution_count": 121,
   "outputs": [
    {
     "name": "stdout",
     "output_type": "stream",
     "text": [
      "file: /var/lib/snapd/seed/snaps/gnome-42-2204_141.snap, size: 521121792\n",
      "file: /var/lib/snapd/snaps/gnome-42-2204_141.snap, size: 521121792\n",
      "file: /var/lib/snapd/snaps/code_155.snap, size: 323534848\n",
      "file: /var/lib/snapd/seed/snaps/firefox_3836.snap, size: 279584768\n",
      "file: /var/lib/snapd/snaps/firefox_3836.snap, size: 279584768\n",
      "file: /var/cache/apt/archives/linux-firmware_20220329.git681281e4-0ubuntu3.29_all.deb, size: 266744788\n",
      "file: /var/lib/snapd/seed/snaps/gtk-common-themes_1535.snap, size: 96141312\n",
      "file: /var/lib/snapd/snaps/gtk-common-themes_1535.snap, size: 96141312\n",
      "file: /var/lib/snapd/seed/snaps/core22_1122.snap, size: 77819904\n",
      "file: /var/lib/snapd/snaps/core22_1122.snap, size: 77819904\n",
      "file: /var/cache/apt/archives/linux-modules-extra-6.5.0-25-generic_6.5.0-25.25~22.04.1_amd64.deb, size: 76803636\n",
      "file: /boot/initrd.img-6.5.0-25-generic, size: 70218882\n",
      "file: /boot/initrd.img-6.5.0-26-generic, size: 70199485\n",
      "file: /var/cache/apt/archives/thunderbird_1%3a115.8.1+build1-0ubuntu0.22.04.1_amd64.deb, size: 67366544\n",
      "file: /var/lib/snapd/snaps/core20_2182.snap, size: 67010560\n",
      "file: /var/lib/apt/lists/ua.archive.ubuntu.com_ubuntu_dists_jammy_universe_binary-amd64_Packages, size: 64332414\n",
      "file: /var/cache/apt/pkgcache.bin, size: 54820049\n",
      "file: /var/cache/apt/srcpkgcache.bin, size: 54778592\n",
      "file: /var/lib/snapd/seed/snaps/snapd_20671.snap, size: 42393600\n",
      "file: /var/lib/snapd/snaps/snapd_20671.snap, size: 42393600\n",
      "file: /var/lib/apt/lists/ua.archive.ubuntu.com_ubuntu_dists_jammy_universe_binary-i386_Packages, size: 34009084\n",
      "file: /home/zarabox/Documents/new.txt, size: 31917639\n",
      "file: /var/lib/apt/lists/ua.archive.ubuntu.com_ubuntu_dists_jammy_universe_i18n_Translation-en, size: 29839306\n",
      "file: /var/cache/apt/archives/linux-modules-6.5.0-25-generic_6.5.0-25.25~22.04.1_amd64.deb, size: 25565880\n",
      "file: /var/log/journal/517b5d5e34ff4a92b126b41a32e19d40/user-1001@f0e85c86caa64bf7a63f8cd945f8b1c4-0000000000001ac7-00061416fd939e38.journal, size: 25165824\n",
      "file: /var/cache/apt/archives/gcc-11_11.4.0-1ubuntu1~22.04_amd64.deb, size: 20140268\n",
      "file: /var/log/journal/517b5d5e34ff4a92b126b41a32e19d40/system@6fa021ad57764e75a0659da291ee1f22-0000000000001715-00061414bcdf311a.journal, size: 16777216\n",
      "file: /boot/vmlinuz-6.5.0-25-generic, size: 14235240\n",
      "file: /boot/vmlinuz-6.5.0-26-generic, size: 14233832\n",
      "file: /var/cache/apt/archives/linux-image-6.5.0-25-generic_6.5.0-25.25~22.04.1_amd64.deb, size: 14013828\n",
      "file: /var/cache/apt/archives/linux-hwe-6.5-headers-6.5.0-25_6.5.0-25.25~22.04.1_all.deb, size: 13276610\n",
      "file: /var/lib/snapd/seed/snaps/snap-store_959.snap, size: 12922880\n",
      "file: /var/lib/snapd/snaps/snap-store_959.snap, size: 12922880\n",
      "file: /home/zarabox/snap/firefox/common/.cache/mozilla/firefox/k9ktraeg.default/safebrowsing/google4/goog-phish-proto.vlpset, size: 12414232\n",
      "file: /home/zarabox/snap/firefox/common/.mozilla/firefox/k9ktraeg.default/storage/permanent/chrome/idb/3870112724rsegmnoittet-es.sqlite, size: 11141120\n",
      "file: /var/lib/apt/lists/ua.archive.ubuntu.com_ubuntu_dists_jammy-updates_restricted_binary-amd64_Packages, size: 9966504\n",
      "file: /var/lib/apt/lists/security.ubuntu.com_ubuntu_dists_jammy-security_restricted_binary-amd64_Packages, size: 9750260\n",
      "file: /home/zarabox/snap/firefox/common/.cache/mozilla/firefox/k9ktraeg.default/startupCache/scriptCache-current.bin, size: 9401180\n",
      "file: /home/zarabox/snap/firefox/common/.cache/mozilla/firefox/k9ktraeg.default/startupCache/scriptCache.bin, size: 9151004\n",
      "file: /home/zarabox/.config/Code/CachedData/863d2581ecda6849923a2118d93a088b0745d9d6/chrome/js/fc8b349ec594097b_0, size: 8625720\n",
      "file: /var/log/journal/517b5d5e34ff4a92b126b41a32e19d40/system@0006151764da198b-e6041577439434bd.journal~, size: 8388608\n",
      "file: /var/log/journal/517b5d5e34ff4a92b126b41a32e19d40/system.journal, size: 8388608\n",
      "file: /var/log/journal/517b5d5e34ff4a92b126b41a32e19d40/user-1000.journal, size: 8388608\n",
      "file: /var/log/journal/517b5d5e34ff4a92b126b41a32e19d40/user-1000@7c970462b8b84775bcf2a50134544563-0000000000001717-00061414bce8479b.journal, size: 8388608\n",
      "file: /var/log/journal/517b5d5e34ff4a92b126b41a32e19d40/system@6fa021ad57764e75a0659da291ee1f22-0000000000000001-000613ec7d11af0e.journal, size: 8388608\n",
      "file: /var/log/journal/517b5d5e34ff4a92b126b41a32e19d40/system@000613ec7d12a021-73e14a8bf5740d17.journal~, size: 8388608\n",
      "file: /var/log/journal/517b5d5e34ff4a92b126b41a32e19d40/system@6fa021ad57764e75a0659da291ee1f22-0000000000006938-00061427a04aac98.journal, size: 8388608\n",
      "file: /var/log/journal/517b5d5e34ff4a92b126b41a32e19d40/user-1000@7c970462b8b84775bcf2a50134544563-0000000000000555-000613ec707f9fe6.journal, size: 8388608\n",
      "file: /var/log/journal/517b5d5e34ff4a92b126b41a32e19d40/user-1000@7c970462b8b84775bcf2a50134544563-0000000000006945-00061427a06b4146.journal, size: 8388608\n",
      "file: /var/lib/apt/lists/ua.archive.ubuntu.com_ubuntu_dists_jammy-updates_main_binary-amd64_Packages, size: 8301543\n"
     ]
    }
   ],
   "source": [
    "for file in sorted_files[:50]:\n",
    "    size = good_files_data[file]\n",
    "    print(f\"file: {file}, size: {size}\")"
   ],
   "metadata": {
    "collapsed": false,
    "ExecuteTime": {
     "end_time": "2024-04-10T09:33:01.474161Z",
     "start_time": "2024-04-10T09:33:01.460862900Z"
    }
   },
   "id": "15bf63cccb5db48a"
  },
  {
   "cell_type": "code",
   "execution_count": null,
   "outputs": [],
   "source": [],
   "metadata": {
    "collapsed": false
   },
   "id": "be097c4395b992a6"
  }
 ],
 "metadata": {
  "kernelspec": {
   "display_name": "Python 3",
   "language": "python",
   "name": "python3"
  },
  "language_info": {
   "codemirror_mode": {
    "name": "ipython",
    "version": 2
   },
   "file_extension": ".py",
   "mimetype": "text/x-python",
   "name": "python",
   "nbconvert_exporter": "python",
   "pygments_lexer": "ipython2",
   "version": "2.7.6"
  }
 },
 "nbformat": 4,
 "nbformat_minor": 5
}
